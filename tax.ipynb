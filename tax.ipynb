{
 "cells": [
  {
   "cell_type": "code",
   "execution_count": 1,
   "metadata": {},
   "outputs": [],
   "source": [
    "import numpy as np\n",
    "import pandas as pd\n",
    "import matplotlib.pyplot as plt\n",
    "%matplotlib inline"
   ]
  },
  {
   "cell_type": "markdown",
   "metadata": {},
   "source": [
    "## 1. 年终奖纳税"
   ]
  },
  {
   "cell_type": "code",
   "execution_count": 2,
   "metadata": {},
   "outputs": [],
   "source": [
    "def bonus_tax(amount):\n",
    "    '''年终奖一次性发放纳税\n",
    "    输入：年终奖金额\n",
    "    输出：[税,到手,税率]\n",
    "    '''\n",
    "    bonus_month = amount/12.0\n",
    "    \n",
    "    bound = [3000.0,12000.0,25000.0,35000.0,55000.0,80000.0,float('inf')]\n",
    "    ratio = [0.03,0.1,0.2,0.25,0.3,0.35,0.45]\n",
    "    sub = [0,210,1410,2660,4410,7160,15160]\n",
    "    \n",
    "    index = 0\n",
    "    \n",
    "    for i, b in enumerate(bound):\n",
    "        if bonus_month - b < 0.001:\n",
    "            index= i\n",
    "            break\n",
    "            \n",
    "    tax = amount*ratio[index] - sub[index]\n",
    "    return [tax, amount-tax, ratio[index]]"
   ]
  },
  {
   "cell_type": "code",
   "execution_count": 3,
   "metadata": {},
   "outputs": [],
   "source": [
    "x = pd.Series(np.arange(1000,500000,500))\n",
    "Y = x.apply(bonus_tax)"
   ]
  },
  {
   "cell_type": "code",
   "execution_count": 4,
   "metadata": {
    "scrolled": true
   },
   "outputs": [
    {
     "data": {
      "text/html": [
       "<div>\n",
       "<style scoped>\n",
       "    .dataframe tbody tr th:only-of-type {\n",
       "        vertical-align: middle;\n",
       "    }\n",
       "\n",
       "    .dataframe tbody tr th {\n",
       "        vertical-align: top;\n",
       "    }\n",
       "\n",
       "    .dataframe thead th {\n",
       "        text-align: right;\n",
       "    }\n",
       "</style>\n",
       "<table border=\"1\" class=\"dataframe\">\n",
       "  <thead>\n",
       "    <tr style=\"text-align: right;\">\n",
       "      <th></th>\n",
       "      <th>年终奖</th>\n",
       "      <th>税率</th>\n",
       "      <th>缴税额</th>\n",
       "      <th>到手</th>\n",
       "    </tr>\n",
       "  </thead>\n",
       "  <tbody>\n",
       "    <tr>\n",
       "      <th>0</th>\n",
       "      <td>1000</td>\n",
       "      <td>0.03</td>\n",
       "      <td>30.0</td>\n",
       "      <td>970.0</td>\n",
       "    </tr>\n",
       "    <tr>\n",
       "      <th>1</th>\n",
       "      <td>1500</td>\n",
       "      <td>0.03</td>\n",
       "      <td>45.0</td>\n",
       "      <td>1455.0</td>\n",
       "    </tr>\n",
       "    <tr>\n",
       "      <th>2</th>\n",
       "      <td>2000</td>\n",
       "      <td>0.03</td>\n",
       "      <td>60.0</td>\n",
       "      <td>1940.0</td>\n",
       "    </tr>\n",
       "    <tr>\n",
       "      <th>3</th>\n",
       "      <td>2500</td>\n",
       "      <td>0.03</td>\n",
       "      <td>75.0</td>\n",
       "      <td>2425.0</td>\n",
       "    </tr>\n",
       "    <tr>\n",
       "      <th>4</th>\n",
       "      <td>3000</td>\n",
       "      <td>0.03</td>\n",
       "      <td>90.0</td>\n",
       "      <td>2910.0</td>\n",
       "    </tr>\n",
       "  </tbody>\n",
       "</table>\n",
       "</div>"
      ],
      "text/plain": [
       "    年终奖    税率   缴税额      到手\n",
       "0  1000  0.03  30.0   970.0\n",
       "1  1500  0.03  45.0  1455.0\n",
       "2  2000  0.03  60.0  1940.0\n",
       "3  2500  0.03  75.0  2425.0\n",
       "4  3000  0.03  90.0  2910.0"
      ]
     },
     "execution_count": 4,
     "metadata": {},
     "output_type": "execute_result"
    }
   ],
   "source": [
    "df = pd.DataFrame(list(Y), columns=['缴税额','到手','税率'])\n",
    "df['年终奖'] = x\n",
    "df = df.reindex(columns=['年终奖','税率','缴税额','到手'])\n",
    "df.head()"
   ]
  },
  {
   "cell_type": "markdown",
   "metadata": {},
   "source": [
    "## 2. 奖金黑洞\n",
    "年终奖144001-160500之间存在奖金黑洞，160500和144000实际到手一样"
   ]
  },
  {
   "cell_type": "code",
   "execution_count": 5,
   "metadata": {
    "scrolled": true
   },
   "outputs": [
    {
     "data": {
      "text/html": [
       "<div>\n",
       "<style scoped>\n",
       "    .dataframe tbody tr th:only-of-type {\n",
       "        vertical-align: middle;\n",
       "    }\n",
       "\n",
       "    .dataframe tbody tr th {\n",
       "        vertical-align: top;\n",
       "    }\n",
       "\n",
       "    .dataframe thead th {\n",
       "        text-align: right;\n",
       "    }\n",
       "</style>\n",
       "<table border=\"1\" class=\"dataframe\">\n",
       "  <thead>\n",
       "    <tr style=\"text-align: right;\">\n",
       "      <th></th>\n",
       "      <th>年终奖</th>\n",
       "      <th>税率</th>\n",
       "      <th>缴税额</th>\n",
       "      <th>到手</th>\n",
       "    </tr>\n",
       "  </thead>\n",
       "  <tbody>\n",
       "    <tr>\n",
       "      <th>286</th>\n",
       "      <td>144000</td>\n",
       "      <td>0.1</td>\n",
       "      <td>14190.0</td>\n",
       "      <td>129810.0</td>\n",
       "    </tr>\n",
       "  </tbody>\n",
       "</table>\n",
       "</div>"
      ],
      "text/plain": [
       "        年终奖   税率      缴税额        到手\n",
       "286  144000  0.1  14190.0  129810.0"
      ]
     },
     "execution_count": 5,
     "metadata": {},
     "output_type": "execute_result"
    }
   ],
   "source": [
    "df[df['年终奖'] == 144000]"
   ]
  },
  {
   "cell_type": "code",
   "execution_count": 6,
   "metadata": {},
   "outputs": [
    {
     "data": {
      "text/html": [
       "<div>\n",
       "<style scoped>\n",
       "    .dataframe tbody tr th:only-of-type {\n",
       "        vertical-align: middle;\n",
       "    }\n",
       "\n",
       "    .dataframe tbody tr th {\n",
       "        vertical-align: top;\n",
       "    }\n",
       "\n",
       "    .dataframe thead th {\n",
       "        text-align: right;\n",
       "    }\n",
       "</style>\n",
       "<table border=\"1\" class=\"dataframe\">\n",
       "  <thead>\n",
       "    <tr style=\"text-align: right;\">\n",
       "      <th></th>\n",
       "      <th>年终奖</th>\n",
       "      <th>税率</th>\n",
       "      <th>缴税额</th>\n",
       "      <th>到手</th>\n",
       "    </tr>\n",
       "  </thead>\n",
       "  <tbody>\n",
       "    <tr>\n",
       "      <th>319</th>\n",
       "      <td>160500</td>\n",
       "      <td>0.2</td>\n",
       "      <td>30690.0</td>\n",
       "      <td>129810.0</td>\n",
       "    </tr>\n",
       "  </tbody>\n",
       "</table>\n",
       "</div>"
      ],
      "text/plain": [
       "        年终奖   税率      缴税额        到手\n",
       "319  160500  0.2  30690.0  129810.0"
      ]
     },
     "execution_count": 6,
     "metadata": {},
     "output_type": "execute_result"
    }
   ],
   "source": [
    "df[df['年终奖'] == 160500]"
   ]
  },
  {
   "cell_type": "code",
   "execution_count": 7,
   "metadata": {},
   "outputs": [
    {
     "data": {
      "text/plain": [
       "<matplotlib.axes._subplots.AxesSubplot at 0x121087cf8>"
      ]
     },
     "execution_count": 7,
     "metadata": {},
     "output_type": "execute_result"
    },
    {
     "data": {
      "image/png": "[encoded data removed]",
      "text/plain": [
       "<Figure size 432x288 with 1 Axes>"
      ]
     },
     "metadata": {
      "needs_background": "light"
     },
     "output_type": "display_data"
    }
   ],
   "source": [
    "df.plot(x='年终奖',y='到手')"
   ]
  },
  {
   "cell_type": "markdown",
   "metadata": {},
   "source": [
    "## 3. 每月工资纳税"
   ]
  },
  {
   "cell_type": "code",
   "execution_count": 8,
   "metadata": {},
   "outputs": [],
   "source": [
    "def salary_for_tax(tax_base, deduction, bonus, month):\n",
    "    '''\n",
    "    输入：每月缴税基数 个税抵扣金额 年终奖 年终奖发放月份\n",
    "    输出：年缴税基数\n",
    "    '''\n",
    "    tmp = [tax_base-deduction-5000]*12\n",
    "    tmp[month-1] += bonus\n",
    "    return tmp"
   ]
  },
  {
   "cell_type": "code",
   "execution_count": 9,
   "metadata": {},
   "outputs": [
    {
     "data": {
      "text/plain": [
       "[13481.96,\n",
       " 13481.96,\n",
       " 13481.96,\n",
       " 13481.96,\n",
       " 13481.96,\n",
       " 13481.96,\n",
       " 13481.96,\n",
       " 13481.96,\n",
       " 13481.96,\n",
       " 13481.96,\n",
       " 13481.96,\n",
       " 13481.96]"
      ]
     },
     "execution_count": 9,
     "metadata": {},
     "output_type": "execute_result"
    }
   ],
   "source": [
    "salary_for_tax(19481.96, 1000, 0, 6)"
   ]
  },
  {
   "cell_type": "code",
   "execution_count": 10,
   "metadata": {},
   "outputs": [],
   "source": [
    "def tax(salary_year):\n",
    "    tax_month = 0\n",
    "    tax_cum = 0\n",
    "    k = 0\n",
    "    \n",
    "    result = []\n",
    "    \n",
    "    for i in range(len(salary_year)):\n",
    "        k += salary_year[i]\n",
    "        if k <= 0:\n",
    "            rate_tax = 0\n",
    "            part_tax = 0\n",
    "        elif 0 < k <= 36000:\n",
    "            rate_tax = 0.03\n",
    "            part_tax = 0\n",
    "        elif 36000 < k <= 144000:\n",
    "            rate_tax = 0.1\n",
    "            part_tax = 2520\n",
    "        elif 144000 < k <= 300000:\n",
    "            rate_tax = 0.2\n",
    "            part_tax = 16920\n",
    "        elif 300000 < k <= 420000:\n",
    "            rate_tax = 0.25\n",
    "            part_tax = 31920\n",
    "        elif 420000 < k <= 660000:\n",
    "            rate_tax = 0.3\n",
    "            part_tax = 52920\n",
    "        elif 660000 < k <= 960000:\n",
    "            rate_tax = 0.35\n",
    "            part_tax = 85920\n",
    "        elif k > 960000:\n",
    "            rate_tax = 0.45\n",
    "            part_tax = 181920\n",
    "\n",
    "        tax_month = k * rate_tax - part_tax - tax_cum\n",
    "        tax_cum += tax_month\n",
    "        \n",
    "        result.append([salary_year[i],k, rate_tax, tax_month, tax_cum])\n",
    "        \n",
    "    return pd.DataFrame(result, columns=['当月应缴税金额','累加应缴税金额','税率','当月税费','累计税费'])"
   ]
  },
  {
   "cell_type": "markdown",
   "metadata": {},
   "source": [
    "## 4. 新工资税费计算公式验证\n",
    "* 累计税费仅与当年总收入有关，与收入分布情况无关  \n",
    "* 三种情况，累计税费一样"
   ]
  },
  {
   "cell_type": "code",
   "execution_count": 11,
   "metadata": {},
   "outputs": [
    {
     "data": {
      "text/html": [
       "<div>\n",
       "<style scoped>\n",
       "    .dataframe tbody tr th:only-of-type {\n",
       "        vertical-align: middle;\n",
       "    }\n",
       "\n",
       "    .dataframe tbody tr th {\n",
       "        vertical-align: top;\n",
       "    }\n",
       "\n",
       "    .dataframe thead th {\n",
       "        text-align: right;\n",
       "    }\n",
       "</style>\n",
       "<table border=\"1\" class=\"dataframe\">\n",
       "  <thead>\n",
       "    <tr style=\"text-align: right;\">\n",
       "      <th></th>\n",
       "      <th>当月应缴税金额</th>\n",
       "      <th>累加应缴税金额</th>\n",
       "      <th>税率</th>\n",
       "      <th>当月税费</th>\n",
       "      <th>累计税费</th>\n",
       "    </tr>\n",
       "  </thead>\n",
       "  <tbody>\n",
       "    <tr>\n",
       "      <th>0</th>\n",
       "      <td>100</td>\n",
       "      <td>100</td>\n",
       "      <td>0.03</td>\n",
       "      <td>3.0</td>\n",
       "      <td>3.0</td>\n",
       "    </tr>\n",
       "    <tr>\n",
       "      <th>1</th>\n",
       "      <td>100000</td>\n",
       "      <td>100100</td>\n",
       "      <td>0.10</td>\n",
       "      <td>7487.0</td>\n",
       "      <td>7490.0</td>\n",
       "    </tr>\n",
       "    <tr>\n",
       "      <th>2</th>\n",
       "      <td>20000</td>\n",
       "      <td>120100</td>\n",
       "      <td>0.10</td>\n",
       "      <td>2000.0</td>\n",
       "      <td>9490.0</td>\n",
       "    </tr>\n",
       "  </tbody>\n",
       "</table>\n",
       "</div>"
      ],
      "text/plain": [
       "   当月应缴税金额  累加应缴税金额    税率    当月税费    累计税费\n",
       "0      100      100  0.03     3.0     3.0\n",
       "1   100000   100100  0.10  7487.0  7490.0\n",
       "2    20000   120100  0.10  2000.0  9490.0"
      ]
     },
     "execution_count": 11,
     "metadata": {},
     "output_type": "execute_result"
    }
   ],
   "source": [
    "tax([100,100000,20000])"
   ]
  },
  {
   "cell_type": "code",
   "execution_count": 12,
   "metadata": {},
   "outputs": [
    {
     "data": {
      "text/html": [
       "<div>\n",
       "<style scoped>\n",
       "    .dataframe tbody tr th:only-of-type {\n",
       "        vertical-align: middle;\n",
       "    }\n",
       "\n",
       "    .dataframe tbody tr th {\n",
       "        vertical-align: top;\n",
       "    }\n",
       "\n",
       "    .dataframe thead th {\n",
       "        text-align: right;\n",
       "    }\n",
       "</style>\n",
       "<table border=\"1\" class=\"dataframe\">\n",
       "  <thead>\n",
       "    <tr style=\"text-align: right;\">\n",
       "      <th></th>\n",
       "      <th>当月应缴税金额</th>\n",
       "      <th>累加应缴税金额</th>\n",
       "      <th>税率</th>\n",
       "      <th>当月税费</th>\n",
       "      <th>累计税费</th>\n",
       "    </tr>\n",
       "  </thead>\n",
       "  <tbody>\n",
       "    <tr>\n",
       "      <th>0</th>\n",
       "      <td>0</td>\n",
       "      <td>0</td>\n",
       "      <td>0.0</td>\n",
       "      <td>0.0</td>\n",
       "      <td>0.0</td>\n",
       "    </tr>\n",
       "    <tr>\n",
       "      <th>1</th>\n",
       "      <td>120100</td>\n",
       "      <td>120100</td>\n",
       "      <td>0.1</td>\n",
       "      <td>9490.0</td>\n",
       "      <td>9490.0</td>\n",
       "    </tr>\n",
       "    <tr>\n",
       "      <th>2</th>\n",
       "      <td>0</td>\n",
       "      <td>120100</td>\n",
       "      <td>0.1</td>\n",
       "      <td>0.0</td>\n",
       "      <td>9490.0</td>\n",
       "    </tr>\n",
       "  </tbody>\n",
       "</table>\n",
       "</div>"
      ],
      "text/plain": [
       "   当月应缴税金额  累加应缴税金额   税率    当月税费    累计税费\n",
       "0        0        0  0.0     0.0     0.0\n",
       "1   120100   120100  0.1  9490.0  9490.0\n",
       "2        0   120100  0.1     0.0  9490.0"
      ]
     },
     "execution_count": 12,
     "metadata": {},
     "output_type": "execute_result"
    }
   ],
   "source": [
    "tax([0,120100,0])"
   ]
  },
  {
   "cell_type": "code",
   "execution_count": 13,
   "metadata": {
    "scrolled": true
   },
   "outputs": [
    {
     "data": {
      "text/html": [
       "<div>\n",
       "<style scoped>\n",
       "    .dataframe tbody tr th:only-of-type {\n",
       "        vertical-align: middle;\n",
       "    }\n",
       "\n",
       "    .dataframe tbody tr th {\n",
       "        vertical-align: top;\n",
       "    }\n",
       "\n",
       "    .dataframe thead th {\n",
       "        text-align: right;\n",
       "    }\n",
       "</style>\n",
       "<table border=\"1\" class=\"dataframe\">\n",
       "  <thead>\n",
       "    <tr style=\"text-align: right;\">\n",
       "      <th></th>\n",
       "      <th>当月应缴税金额</th>\n",
       "      <th>累加应缴税金额</th>\n",
       "      <th>税率</th>\n",
       "      <th>当月税费</th>\n",
       "      <th>累计税费</th>\n",
       "    </tr>\n",
       "  </thead>\n",
       "  <tbody>\n",
       "    <tr>\n",
       "      <th>0</th>\n",
       "      <td>0</td>\n",
       "      <td>0</td>\n",
       "      <td>0.0</td>\n",
       "      <td>0.0</td>\n",
       "      <td>0.0</td>\n",
       "    </tr>\n",
       "    <tr>\n",
       "      <th>1</th>\n",
       "      <td>60100</td>\n",
       "      <td>60100</td>\n",
       "      <td>0.1</td>\n",
       "      <td>3490.0</td>\n",
       "      <td>3490.0</td>\n",
       "    </tr>\n",
       "    <tr>\n",
       "      <th>2</th>\n",
       "      <td>60000</td>\n",
       "      <td>120100</td>\n",
       "      <td>0.1</td>\n",
       "      <td>6000.0</td>\n",
       "      <td>9490.0</td>\n",
       "    </tr>\n",
       "  </tbody>\n",
       "</table>\n",
       "</div>"
      ],
      "text/plain": [
       "   当月应缴税金额  累加应缴税金额   税率    当月税费    累计税费\n",
       "0        0        0  0.0     0.0     0.0\n",
       "1    60100    60100  0.1  3490.0  3490.0\n",
       "2    60000   120100  0.1  6000.0  9490.0"
      ]
     },
     "execution_count": 13,
     "metadata": {},
     "output_type": "execute_result"
    }
   ],
   "source": [
    "tax([0,60100,60000])"
   ]
  },
  {
   "cell_type": "code",
   "execution_count": 14,
   "metadata": {
    "scrolled": false
   },
   "outputs": [
    {
     "data": {
      "text/html": [
       "<div>\n",
       "<style scoped>\n",
       "    .dataframe tbody tr th:only-of-type {\n",
       "        vertical-align: middle;\n",
       "    }\n",
       "\n",
       "    .dataframe tbody tr th {\n",
       "        vertical-align: top;\n",
       "    }\n",
       "\n",
       "    .dataframe thead th {\n",
       "        text-align: right;\n",
       "    }\n",
       "</style>\n",
       "<table border=\"1\" class=\"dataframe\">\n",
       "  <thead>\n",
       "    <tr style=\"text-align: right;\">\n",
       "      <th></th>\n",
       "      <th>当月应缴税金额</th>\n",
       "      <th>累加应缴税金额</th>\n",
       "      <th>税率</th>\n",
       "      <th>当月税费</th>\n",
       "      <th>累计税费</th>\n",
       "    </tr>\n",
       "  </thead>\n",
       "  <tbody>\n",
       "    <tr>\n",
       "      <th>0</th>\n",
       "      <td>13481.96</td>\n",
       "      <td>13481.96</td>\n",
       "      <td>0.03</td>\n",
       "      <td>404.4588</td>\n",
       "      <td>404.4588</td>\n",
       "    </tr>\n",
       "    <tr>\n",
       "      <th>1</th>\n",
       "      <td>13481.96</td>\n",
       "      <td>26963.92</td>\n",
       "      <td>0.03</td>\n",
       "      <td>404.4588</td>\n",
       "      <td>808.9176</td>\n",
       "    </tr>\n",
       "    <tr>\n",
       "      <th>2</th>\n",
       "      <td>13481.96</td>\n",
       "      <td>40445.88</td>\n",
       "      <td>0.10</td>\n",
       "      <td>715.6704</td>\n",
       "      <td>1524.5880</td>\n",
       "    </tr>\n",
       "    <tr>\n",
       "      <th>3</th>\n",
       "      <td>13481.96</td>\n",
       "      <td>53927.84</td>\n",
       "      <td>0.10</td>\n",
       "      <td>1348.1960</td>\n",
       "      <td>2872.7840</td>\n",
       "    </tr>\n",
       "    <tr>\n",
       "      <th>4</th>\n",
       "      <td>13481.96</td>\n",
       "      <td>67409.80</td>\n",
       "      <td>0.10</td>\n",
       "      <td>1348.1960</td>\n",
       "      <td>4220.9800</td>\n",
       "    </tr>\n",
       "    <tr>\n",
       "      <th>5</th>\n",
       "      <td>13481.96</td>\n",
       "      <td>80891.76</td>\n",
       "      <td>0.10</td>\n",
       "      <td>1348.1960</td>\n",
       "      <td>5569.1760</td>\n",
       "    </tr>\n",
       "    <tr>\n",
       "      <th>6</th>\n",
       "      <td>13481.96</td>\n",
       "      <td>94373.72</td>\n",
       "      <td>0.10</td>\n",
       "      <td>1348.1960</td>\n",
       "      <td>6917.3720</td>\n",
       "    </tr>\n",
       "    <tr>\n",
       "      <th>7</th>\n",
       "      <td>13481.96</td>\n",
       "      <td>107855.68</td>\n",
       "      <td>0.10</td>\n",
       "      <td>1348.1960</td>\n",
       "      <td>8265.5680</td>\n",
       "    </tr>\n",
       "    <tr>\n",
       "      <th>8</th>\n",
       "      <td>13481.96</td>\n",
       "      <td>121337.64</td>\n",
       "      <td>0.10</td>\n",
       "      <td>1348.1960</td>\n",
       "      <td>9613.7640</td>\n",
       "    </tr>\n",
       "    <tr>\n",
       "      <th>9</th>\n",
       "      <td>13481.96</td>\n",
       "      <td>134819.60</td>\n",
       "      <td>0.10</td>\n",
       "      <td>1348.1960</td>\n",
       "      <td>10961.9600</td>\n",
       "    </tr>\n",
       "    <tr>\n",
       "      <th>10</th>\n",
       "      <td>13481.96</td>\n",
       "      <td>148301.56</td>\n",
       "      <td>0.20</td>\n",
       "      <td>1778.3520</td>\n",
       "      <td>12740.3120</td>\n",
       "    </tr>\n",
       "    <tr>\n",
       "      <th>11</th>\n",
       "      <td>13481.96</td>\n",
       "      <td>161783.52</td>\n",
       "      <td>0.20</td>\n",
       "      <td>2696.3920</td>\n",
       "      <td>15436.7040</td>\n",
       "    </tr>\n",
       "  </tbody>\n",
       "</table>\n",
       "</div>"
      ],
      "text/plain": [
       "     当月应缴税金额    累加应缴税金额    税率       当月税费        累计税费\n",
       "0   13481.96   13481.96  0.03   404.4588    404.4588\n",
       "1   13481.96   26963.92  0.03   404.4588    808.9176\n",
       "2   13481.96   40445.88  0.10   715.6704   1524.5880\n",
       "3   13481.96   53927.84  0.10  1348.1960   2872.7840\n",
       "4   13481.96   67409.80  0.10  1348.1960   4220.9800\n",
       "5   13481.96   80891.76  0.10  1348.1960   5569.1760\n",
       "6   13481.96   94373.72  0.10  1348.1960   6917.3720\n",
       "7   13481.96  107855.68  0.10  1348.1960   8265.5680\n",
       "8   13481.96  121337.64  0.10  1348.1960   9613.7640\n",
       "9   13481.96  134819.60  0.10  1348.1960  10961.9600\n",
       "10  13481.96  148301.56  0.20  1778.3520  12740.3120\n",
       "11  13481.96  161783.52  0.20  2696.3920  15436.7040"
      ]
     },
     "execution_count": 14,
     "metadata": {},
     "output_type": "execute_result"
    }
   ],
   "source": [
    "tax(salary_for_tax(19481.96, 1000, 0, 6))"
   ]
  },
  {
   "cell_type": "markdown",
   "metadata": {},
   "source": [
    "## 5. 部分年终奖计入工资进行避税"
   ]
  },
  {
   "cell_type": "code",
   "execution_count": 15,
   "metadata": {},
   "outputs": [],
   "source": [
    "def tax_with_bonus(tax_base, deduction, bonus, once, test):\n",
    "    '''\n",
    "    输入：每月缴税基数 个税抵扣金额 年终奖总额 一次发放金额  是否为测试\n",
    "    输出：当年总税费\n",
    "    '''\n",
    "    tax_once = bonus_tax(once)[0]\n",
    "    \n",
    "    tax_month = tax(salary_for_tax(tax_base, deduction, bonus-once, 6)).loc[11,'累计税费']\n",
    "    \n",
    "    if test:\n",
    "        print('一次性发放奖金税费: %f' % tax_once)\n",
    "        print('工资税费累计: %f' % tax_month)\n",
    "    \n",
    "    return tax_once+tax_month"
   ]
  },
  {
   "cell_type": "markdown",
   "metadata": {},
   "source": [
    "### 5.1 比较\n",
    "每月纳税基数：19481.96  \n",
    "每月个税抵扣：1000  \n",
    "年终奖：250000  \n",
    "\n",
    "* **年终奖一次全部发放**"
   ]
  },
  {
   "cell_type": "code",
   "execution_count": 16,
   "metadata": {
    "scrolled": false
   },
   "outputs": [
    {
     "name": "stdout",
     "output_type": "stream",
     "text": [
      "一次性发放奖金税费: 48590.000000\n",
      "工资税费累计: 15436.704000\n"
     ]
    },
    {
     "data": {
      "text/plain": [
       "64026.70399999998"
      ]
     },
     "execution_count": 16,
     "metadata": {},
     "output_type": "execute_result"
    }
   ],
   "source": [
    "tax_with_bonus(19481.96, 1000, 250000, 250000, 1)"
   ]
  },
  {
   "cell_type": "markdown",
   "metadata": {},
   "source": [
    "* **年终奖避免奖金黑洞 按144000发放，剩余部分计入工资**"
   ]
  },
  {
   "cell_type": "code",
   "execution_count": 17,
   "metadata": {
    "scrolled": true
   },
   "outputs": [
    {
     "name": "stdout",
     "output_type": "stream",
     "text": [
      "一次性发放奖金税费: 14190.000000\n",
      "工资税费累计: 36636.704000\n"
     ]
    },
    {
     "data": {
      "text/plain": [
       "50826.704"
      ]
     },
     "execution_count": 17,
     "metadata": {},
     "output_type": "execute_result"
    }
   ],
   "source": [
    "tax_with_bonus(19481.96, 1000, 250000, 144000, 1)"
   ]
  },
  {
   "cell_type": "markdown",
   "metadata": {},
   "source": [
    "* **结论：有效避税13,200**\n"
   ]
  },
  {
   "cell_type": "markdown",
   "metadata": {},
   "source": [
    "### 5.2 最优解"
   ]
  },
  {
   "cell_type": "code",
   "execution_count": 18,
   "metadata": {},
   "outputs": [],
   "source": [
    "x = pd.Series(np.arange(0,250001,1000))\n",
    "Y = x.apply(lambda a: tax_with_bonus(19481.96, 1000, 250000, a, 0))"
   ]
  },
  {
   "cell_type": "code",
   "execution_count": 19,
   "metadata": {},
   "outputs": [],
   "source": [
    "final = pd.DataFrame({'once':x,'tax_total':Y})"
   ]
  },
  {
   "cell_type": "code",
   "execution_count": 20,
   "metadata": {},
   "outputs": [
    {
     "data": {
      "text/html": [
       "<div>\n",
       "<style scoped>\n",
       "    .dataframe tbody tr th:only-of-type {\n",
       "        vertical-align: middle;\n",
       "    }\n",
       "\n",
       "    .dataframe tbody tr th {\n",
       "        vertical-align: top;\n",
       "    }\n",
       "\n",
       "    .dataframe thead th {\n",
       "        text-align: right;\n",
       "    }\n",
       "</style>\n",
       "<table border=\"1\" class=\"dataframe\">\n",
       "  <thead>\n",
       "    <tr style=\"text-align: right;\">\n",
       "      <th></th>\n",
       "      <th>once</th>\n",
       "      <th>tax_total</th>\n",
       "    </tr>\n",
       "  </thead>\n",
       "  <tbody>\n",
       "    <tr>\n",
       "      <th>0</th>\n",
       "      <td>0</td>\n",
       "      <td>71025.88</td>\n",
       "    </tr>\n",
       "    <tr>\n",
       "      <th>1</th>\n",
       "      <td>1000</td>\n",
       "      <td>70805.88</td>\n",
       "    </tr>\n",
       "    <tr>\n",
       "      <th>2</th>\n",
       "      <td>2000</td>\n",
       "      <td>70585.88</td>\n",
       "    </tr>\n",
       "    <tr>\n",
       "      <th>3</th>\n",
       "      <td>3000</td>\n",
       "      <td>70365.88</td>\n",
       "    </tr>\n",
       "    <tr>\n",
       "      <th>4</th>\n",
       "      <td>4000</td>\n",
       "      <td>70145.88</td>\n",
       "    </tr>\n",
       "    <tr>\n",
       "      <th>5</th>\n",
       "      <td>5000</td>\n",
       "      <td>69925.88</td>\n",
       "    </tr>\n",
       "    <tr>\n",
       "      <th>6</th>\n",
       "      <td>6000</td>\n",
       "      <td>69705.88</td>\n",
       "    </tr>\n",
       "    <tr>\n",
       "      <th>7</th>\n",
       "      <td>7000</td>\n",
       "      <td>69485.88</td>\n",
       "    </tr>\n",
       "    <tr>\n",
       "      <th>8</th>\n",
       "      <td>8000</td>\n",
       "      <td>69265.88</td>\n",
       "    </tr>\n",
       "    <tr>\n",
       "      <th>9</th>\n",
       "      <td>9000</td>\n",
       "      <td>69045.88</td>\n",
       "    </tr>\n",
       "  </tbody>\n",
       "</table>\n",
       "</div>"
      ],
      "text/plain": [
       "   once  tax_total\n",
       "0     0   71025.88\n",
       "1  1000   70805.88\n",
       "2  2000   70585.88\n",
       "3  3000   70365.88\n",
       "4  4000   70145.88\n",
       "5  5000   69925.88\n",
       "6  6000   69705.88\n",
       "7  7000   69485.88\n",
       "8  8000   69265.88\n",
       "9  9000   69045.88"
      ]
     },
     "execution_count": 20,
     "metadata": {},
     "output_type": "execute_result"
    }
   ],
   "source": [
    "final.head(10)"
   ]
  },
  {
   "cell_type": "code",
   "execution_count": 21,
   "metadata": {},
   "outputs": [
    {
     "data": {
      "text/plain": [
       "<matplotlib.axes._subplots.AxesSubplot at 0x121475550>"
      ]
     },
     "execution_count": 21,
     "metadata": {},
     "output_type": "execute_result"
    },
    {
     "data": {
      "image/png": "[encoded data removed]",
      "text/plain": [
       "<Figure size 432x288 with 1 Axes>"
      ]
     },
     "metadata": {
      "needs_background": "light"
     },
     "output_type": "display_data"
    }
   ],
   "source": [
    "final.plot(x='once',y='tax_total')"
   ]
  },
  {
   "cell_type": "code",
   "execution_count": 22,
   "metadata": {
    "scrolled": true
   },
   "outputs": [
    {
     "data": {
      "text/plain": [
       "50826.704"
      ]
     },
     "execution_count": 22,
     "metadata": {},
     "output_type": "execute_result"
    }
   ],
   "source": [
    "final['tax_total'].min()"
   ]
  },
  {
   "cell_type": "code",
   "execution_count": 23,
   "metadata": {},
   "outputs": [
    {
     "data": {
      "text/html": [
       "<div>\n",
       "<style scoped>\n",
       "    .dataframe tbody tr th:only-of-type {\n",
       "        vertical-align: middle;\n",
       "    }\n",
       "\n",
       "    .dataframe tbody tr th {\n",
       "        vertical-align: top;\n",
       "    }\n",
       "\n",
       "    .dataframe thead th {\n",
       "        text-align: right;\n",
       "    }\n",
       "</style>\n",
       "<table border=\"1\" class=\"dataframe\">\n",
       "  <thead>\n",
       "    <tr style=\"text-align: right;\">\n",
       "      <th></th>\n",
       "      <th>once</th>\n",
       "      <th>tax_total</th>\n",
       "    </tr>\n",
       "  </thead>\n",
       "  <tbody>\n",
       "    <tr>\n",
       "      <th>144</th>\n",
       "      <td>144000</td>\n",
       "      <td>50826.704</td>\n",
       "    </tr>\n",
       "  </tbody>\n",
       "</table>\n",
       "</div>"
      ],
      "text/plain": [
       "       once  tax_total\n",
       "144  144000  50826.704"
      ]
     },
     "execution_count": 23,
     "metadata": {},
     "output_type": "execute_result"
    }
   ],
   "source": [
    "final[final.tax_total == final['tax_total'].min()]"
   ]
  },
  {
   "cell_type": "markdown",
   "metadata": {},
   "source": [
    "### 5.3 结论"
   ]
  },
  {
   "cell_type": "markdown",
   "metadata": {},
   "source": [
    "1. 年终奖存在奖金黑洞。在临界点多发一块钱，会导致到手金额反而下降，应该尽量避免。\n",
    "2. 新个税计算公式，全年总纳税金额与工资发放时间分布无关，仅与工资总额有关。\n",
    "3. 按目前奖金发放情况，年终奖发放一次性奖金14400，剩余奖金算入工资发放，全年纳税额最小。可相比一次性全部发放节省13200税费"
   ]
  },
  {
   "cell_type": "code",
   "execution_count": null,
   "metadata": {},
   "outputs": [],
   "source": []
  },
  {
   "cell_type": "code",
   "execution_count": null,
   "metadata": {},
   "outputs": [],
   "source": []
  }
 ],
 "metadata": {
  "kernelspec": {
   "display_name": "Python 3",
   "language": "python",
   "name": "python3"
  },
  "language_info": {
   "codemirror_mode": {
    "name": "ipython",
    "version": 3
   },
   "file_extension": ".py",
   "mimetype": "text/x-python",
   "name": "python",
   "nbconvert_exporter": "python",
   "pygments_lexer": "ipython3",
   "version": "3.7.1"
  }
 },
 "nbformat": 4,
 "nbformat_minor": 2
}
